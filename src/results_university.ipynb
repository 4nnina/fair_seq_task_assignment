{
 "cells": [
  {
   "cell_type": "code",
   "execution_count": null,
   "metadata": {},
   "outputs": [],
   "source": [
    "from global_sol.data_classes_global import GlobalUniversity, GlobalUniveristyFromLocal\n",
    "from local_sol.data_classes_local import TimelineProfessors, TimelineStudents\n",
    "from global_sol.utils_global import getBestSol\n",
    "from local_sol.utils_local import getBestSolLocal\n",
    "import random\n",
    "import numpy as np\n",
    "import pandas as pd\n",
    "import copy\n",
    "\n",
    "seed = 20\n",
    "\n",
    "random.seed(seed)\n",
    "np.random.seed(seed)"
   ]
  },
  {
   "cell_type": "code",
   "execution_count": 2,
   "metadata": {},
   "outputs": [],
   "source": [
    "degree1 = 'Laurea in Biotecnologie [385] Corsi di laurea - UNICO'\n",
    "degree2 = 'Laurea in Informatica [420] Corsi di laurea - UNICO'\n",
    "degree3 = 'Laurea in Bioinformatica [419] Corsi di laurea - UNICO'\n",
    "schedule = pd.read_csv('../../dataset/university/lecture_timeslots.csv')\n",
    "schedule = schedule[(schedule['degree']== degree1) | (schedule['degree']== degree2) | (schedule['degree']== degree3)]\n",
    "\n",
    "prof = schedule['prof_id'].unique().tolist()\n",
    "dict_degree = {degree1:[1,2,3], degree2:[1,2,3], degree3:[1,2,3]}"
   ]
  },
  {
   "cell_type": "markdown",
   "metadata": {},
   "source": [
    "# Local Evaluations"
   ]
  },
  {
   "cell_type": "code",
   "execution_count": 3,
   "metadata": {},
   "outputs": [
    {
     "name": "stdout",
     "output_type": "stream",
     "text": [
      "professor:  71\n",
      "professor:  41\n",
      "professor:  31\n",
      "professor:  86\n",
      "professor:  30\n",
      "professor:  23\n",
      "professor:  5\n",
      "professor:  1\n",
      "professor:  44\n",
      "professor:  4\n",
      "professor:  55\n",
      "professor:  88\n",
      "professor:  54\n",
      "professor:  74\n",
      "professor:  25\n",
      "professor:  51\n",
      "professor:  57\n",
      "professor:  32\n",
      "professor:  112\n",
      "professor:  46\n",
      "professor:  43\n",
      "professor:  66\n",
      "professor:  90\n",
      "professor:  96\n",
      "professor:  106\n",
      "professor:  33\n",
      "professor:  35\n",
      "professor:  85\n",
      "professor:  93\n",
      "professor:  68\n",
      "professor:  50\n",
      "professor:  83\n",
      "degree:  Laurea in Biotecnologie [385] Corsi di laurea - UNICO year:  1\n",
      "degree:  Laurea in Biotecnologie [385] Corsi di laurea - UNICO year:  2\n",
      "degree:  Laurea in Biotecnologie [385] Corsi di laurea - UNICO year:  3\n",
      "degree:  Laurea in Informatica [420] Corsi di laurea - UNICO year:  1\n",
      "degree:  Laurea in Informatica [420] Corsi di laurea - UNICO year:  2\n",
      "degree:  Laurea in Informatica [420] Corsi di laurea - UNICO year:  3\n",
      "degree:  Laurea in Bioinformatica [419] Corsi di laurea - UNICO year:  1\n",
      "degree:  Laurea in Bioinformatica [419] Corsi di laurea - UNICO year:  2\n",
      "degree:  Laurea in Bioinformatica [419] Corsi di laurea - UNICO year:  3\n"
     ]
    }
   ],
   "source": [
    "timeline_prof = []\n",
    "timeline_degree = []\n",
    "\n",
    "initialTemp = 50\n",
    "finalTemp = 5\n",
    "alpha = 0.5\n",
    "maxPerturbation = 10\n",
    "\n",
    "for p in prof:\n",
    "    print('professor: ', p)\n",
    "    timeline = TimelineProfessors(p)\n",
    "    best_t = getBestSolLocal(timeline, set(), initialTemp, finalTemp, alpha, maxPerturbation, True) \n",
    "    \n",
    "    timeline_prof.append(best_t)\n",
    "\n",
    "\n",
    "initialTemp = 50\n",
    "finalTemp = 5\n",
    "alpha = 0.5\n",
    "maxPerturbation = 20\n",
    "\n",
    "for degree in dict_degree:\n",
    "    for year in dict_degree[degree]:\n",
    "        print('degree: ', degree, 'year: ', year)\n",
    "        timeline = TimelineStudents(degree, year)\n",
    "        best_t = getBestSolLocal(timeline, set(), initialTemp, finalTemp, alpha, maxPerturbation, True) \n",
    "        timeline_degree.append(best_t)"
   ]
  },
  {
   "cell_type": "code",
   "execution_count": 4,
   "metadata": {},
   "outputs": [
    {
     "name": "stdout",
     "output_type": "stream",
     "text": [
      "Fairness score in all sub-problem\n",
      "^^^^^^^^^^^^^^^^^^^^^^^^^^^^^^^^^^^^^^^^^^^^^^^^^^^^^^^^^^^^^^^^^^^^^^^^^^^^^^^^^^^^^^^^^^^^^^^^^^^^^^^^^^^^^^^^\n",
      "^                                            Detailed Fairness Score                                           ^\n",
      "^^^^^^^^^^^^^^^^^^^^^^^^^^^^^^^^^^^^^^^^^^^^^^^^^^^^^^^^^^^^^^^^^^^^^^^^^^^^^^^^^^^^^^^^^^^^^^^^^^^^^^^^^^^^^^^^\n",
      "Prof Name: 71\tFairness Score: 0\t100%\n",
      "Prof Name: 41\tFairness Score: 0\t100%\n",
      "Prof Name: 31\tFairness Score: 0\t100%\n",
      "Prof Name: 86\tFairness Score: 0\t100%\n",
      "Prof Name: 30\tFairness Score: 0\t100%\n",
      "Prof Name: 23\tFairness Score: 0\t100%\n",
      "Prof Name: 5\tFairness Score: 0\t100%\n",
      "Prof Name: 1\tFairness Score: 0\t100%\n",
      "Prof Name: 44\tFairness Score: 0\t100%\n",
      "Prof Name: 4\tFairness Score: 0\t100%\n",
      "Prof Name: 55\tFairness Score: 0\t100%\n",
      "Prof Name: 88\tFairness Score: 0\t100%\n",
      "Prof Name: 54\tFairness Score: 0\t100%\n",
      "Prof Name: 74\tFairness Score: 0\t100%\n",
      "Prof Name: 25\tFairness Score: 0\t100%\n",
      "Prof Name: 51\tFairness Score: 0\t100%\n",
      "Prof Name: 57\tFairness Score: 0\t100%\n",
      "Prof Name: 32\tFairness Score: 0\t100%\n",
      "Prof Name: 112\tFairness Score: 0\t100%\n",
      "Prof Name: 46\tFairness Score: 0\t100%\n",
      "Prof Name: 43\tFairness Score: 0\t100%\n",
      "Prof Name: 66\tFairness Score: 0\t100%\n",
      "Prof Name: 90\tFairness Score: 0\t100%\n",
      "Prof Name: 96\tFairness Score: 0\t100%\n",
      "Prof Name: 106\tFairness Score: 0\t100%\n",
      "Prof Name: 33\tFairness Score: 0\t100%\n",
      "Prof Name: 35\tFairness Score: 0\t100%\n",
      "Prof Name: 85\tFairness Score: 0\t100%\n",
      "Prof Name: 93\tFairness Score: 0\t100%\n",
      "Prof Name: 68\tFairness Score: 0\t100%\n",
      "Prof Name: 50\tFairness Score: 0\t100%\n",
      "Prof Name: 83\tFairness Score: 0\t100%\n",
      "Degree Name: Laurea in Biotecnologie [385] Corsi di laurea - UNICO\tYear: 1\tFairness Score: -0.8\n",
      "Degree Name: Laurea in Biotecnologie [385] Corsi di laurea - UNICO\tYear: 2\tFairness Score: -1.2666666666666666\n",
      "Degree Name: Laurea in Biotecnologie [385] Corsi di laurea - UNICO\tYear: 3\tFairness Score: -1.5081081081081082\n",
      "Degree Name: Laurea in Informatica [420] Corsi di laurea - UNICO\tYear: 1\tFairness Score: -0.7052631578947368\n",
      "Degree Name: Laurea in Informatica [420] Corsi di laurea - UNICO\tYear: 2\tFairness Score: -0.4714285714285714\n",
      "Degree Name: Laurea in Informatica [420] Corsi di laurea - UNICO\tYear: 3\tFairness Score: -0.7304347826086957\n",
      "Degree Name: Laurea in Bioinformatica [419] Corsi di laurea - UNICO\tYear: 1\tFairness Score: -1.05\n",
      "Degree Name: Laurea in Bioinformatica [419] Corsi di laurea - UNICO\tYear: 2\tFairness Score: -0.49090909090909096\n",
      "Degree Name: Laurea in Bioinformatica [419] Corsi di laurea - UNICO\tYear: 3\tFairness Score: -1.2666666666666666\n",
      "^^^^^^^^^^^^^^^^^^^^^^^^^^^^^^^^^^^^^^^^^^^^^^^^^^^^^^^^^^^^^^^^^^^^^^^^^^^^^^^^^^^^^^^^^^^^^^^^^^^^^^^^^^^^^^^^\n",
      "\n"
     ]
    }
   ],
   "source": [
    "all_timeline_neutral = GlobalUniveristyFromLocal(timeline_prof, timeline_degree)\n",
    "print('Fairness score in all sub-problem')\n",
    "print(all_timeline_neutral.getSingleFairnessScore())"
   ]
  },
  {
   "cell_type": "code",
   "execution_count": 5,
   "metadata": {},
   "outputs": [
    {
     "name": "stdout",
     "output_type": "stream",
     "text": [
      "Fairness score of the global solution starting from Students\n",
      "^^^^^^^^^^^^^^^^^^^^^^^^^^^^^^^^^^^^^^^^^^^^^^^^^^^^^^^^^^^^^^^^^^^^^^^^^^^^^^^^^^^^^^^^^^^^^^^^^^^^^^^^^^^^^^^^\n",
      "^                                            Detailed Fairness Score                                           ^\n",
      "^^^^^^^^^^^^^^^^^^^^^^^^^^^^^^^^^^^^^^^^^^^^^^^^^^^^^^^^^^^^^^^^^^^^^^^^^^^^^^^^^^^^^^^^^^^^^^^^^^^^^^^^^^^^^^^^\n",
      "Prof Name: 71\tFairness Score: 0\t100%\n",
      "Prof Name: 41\tFairness Score: 0\t100%\n",
      "Prof Name: 31\tFairness Score: -0.5\t83%\n",
      "Prof Name: 86\tFairness Score: 0\t100%\n",
      "Prof Name: 30\tFairness Score: 0\t100%\n",
      "Prof Name: 23\tFairness Score: 0\t100%\n",
      "Prof Name: 5\tFairness Score: 0\t100%\n",
      "Prof Name: 1\tFairness Score: 0\t100%\n",
      "Prof Name: 44\tFairness Score: 0\t100%\n",
      "Prof Name: 4\tFairness Score: -1.0\t77%\n",
      "Prof Name: 55\tFairness Score: -1000.5\t0%\n",
      "Prof Name: 88\tFairness Score: -0.25\t100%\n",
      "Prof Name: 54\tFairness Score: -5\t58%\n",
      "Prof Name: 74\tFairness Score: -0.5\t92%\n",
      "Prof Name: 25\tFairness Score: 0\t100%\n",
      "Prof Name: 51\tFairness Score: -3\t75%\n",
      "Prof Name: 57\tFairness Score: 0\t100%\n",
      "Prof Name: 32\tFairness Score: -2.5\t61%\n",
      "Prof Name: 112\tFairness Score: 0\t100%\n",
      "Prof Name: 46\tFairness Score: 0\t100%\n",
      "Prof Name: 43\tFairness Score: -1.25\t87%\n",
      "Prof Name: 66\tFairness Score: 0\t100%\n",
      "Prof Name: 90\tFairness Score: 0\t100%\n",
      "Prof Name: 96\tFairness Score: 0\t100%\n",
      "Prof Name: 106\tFairness Score: 0\t100%\n",
      "Prof Name: 33\tFairness Score: 0\t100%\n",
      "Prof Name: 35\tFairness Score: -0.5\t91%\n",
      "Prof Name: 85\tFairness Score: 0\t100%\n",
      "Prof Name: 93\tFairness Score: 0\t100%\n",
      "Prof Name: 68\tFairness Score: 0\t100%\n",
      "Prof Name: 50\tFairness Score: 0\t100%\n",
      "Prof Name: 83\tFairness Score: 0\t100%\n",
      "Degree Name: Laurea in Biotecnologie [385] Corsi di laurea - UNICO\tYear: 1\tFairness Score: -0.8\n",
      "Degree Name: Laurea in Biotecnologie [385] Corsi di laurea - UNICO\tYear: 2\tFairness Score: -1.2666666666666666\n",
      "Degree Name: Laurea in Biotecnologie [385] Corsi di laurea - UNICO\tYear: 3\tFairness Score: -1.5081081081081082\n",
      "Degree Name: Laurea in Informatica [420] Corsi di laurea - UNICO\tYear: 1\tFairness Score: -0.7052631578947368\n",
      "Degree Name: Laurea in Informatica [420] Corsi di laurea - UNICO\tYear: 2\tFairness Score: -0.4714285714285714\n",
      "Degree Name: Laurea in Informatica [420] Corsi di laurea - UNICO\tYear: 3\tFairness Score: -0.7304347826086957\n",
      "Degree Name: Laurea in Bioinformatica [419] Corsi di laurea - UNICO\tYear: 1\tFairness Score: -1.05\n",
      "Degree Name: Laurea in Bioinformatica [419] Corsi di laurea - UNICO\tYear: 2\tFairness Score: -0.49090909090909096\n",
      "Degree Name: Laurea in Bioinformatica [419] Corsi di laurea - UNICO\tYear: 3\tFairness Score: -1.2666666666666666\n",
      "^^^^^^^^^^^^^^^^^^^^^^^^^^^^^^^^^^^^^^^^^^^^^^^^^^^^^^^^^^^^^^^^^^^^^^^^^^^^^^^^^^^^^^^^^^^^^^^^^^^^^^^^^^^^^^^^\n",
      "\n",
      "-16.31990150246014\n"
     ]
    }
   ],
   "source": [
    "all_timeline_stud = GlobalUniveristyFromLocal(timeline_prof, timeline_degree, 'stud')\n",
    "\n",
    "print('Fairness score of the global solution starting from Students')\n",
    "print(all_timeline_stud.getSingleFairnessScore())\n",
    "print(all_timeline_stud.fairness_score())"
   ]
  },
  {
   "cell_type": "code",
   "execution_count": 6,
   "metadata": {},
   "outputs": [
    {
     "name": "stdout",
     "output_type": "stream",
     "text": [
      "Fairness score of the global solution starting from Professors\n",
      "^^^^^^^^^^^^^^^^^^^^^^^^^^^^^^^^^^^^^^^^^^^^^^^^^^^^^^^^^^^^^^^^^^^^^^^^^^^^^^^^^^^^^^^^^^^^^^^^^^^^^^^^^^^^^^^^\n",
      "^                                            Detailed Fairness Score                                           ^\n",
      "^^^^^^^^^^^^^^^^^^^^^^^^^^^^^^^^^^^^^^^^^^^^^^^^^^^^^^^^^^^^^^^^^^^^^^^^^^^^^^^^^^^^^^^^^^^^^^^^^^^^^^^^^^^^^^^^\n",
      "Prof Name: 71\tFairness Score: 0\t100%\n",
      "Prof Name: 41\tFairness Score: 0\t100%\n",
      "Prof Name: 31\tFairness Score: 0\t100%\n",
      "Prof Name: 86\tFairness Score: 0\t100%\n",
      "Prof Name: 30\tFairness Score: 0\t100%\n",
      "Prof Name: 23\tFairness Score: 0\t100%\n",
      "Prof Name: 5\tFairness Score: 0\t100%\n",
      "Prof Name: 1\tFairness Score: 0\t100%\n",
      "Prof Name: 44\tFairness Score: 0\t100%\n",
      "Prof Name: 4\tFairness Score: 0\t100%\n",
      "Prof Name: 55\tFairness Score: 0\t100%\n",
      "Prof Name: 88\tFairness Score: 0\t100%\n",
      "Prof Name: 54\tFairness Score: 0\t100%\n",
      "Prof Name: 74\tFairness Score: 0\t100%\n",
      "Prof Name: 25\tFairness Score: 0\t100%\n",
      "Prof Name: 51\tFairness Score: 0\t100%\n",
      "Prof Name: 57\tFairness Score: 0\t100%\n",
      "Prof Name: 32\tFairness Score: 0\t100%\n",
      "Prof Name: 112\tFairness Score: 0\t100%\n",
      "Prof Name: 46\tFairness Score: 0\t100%\n",
      "Prof Name: 43\tFairness Score: 0\t100%\n",
      "Prof Name: 66\tFairness Score: 0\t100%\n",
      "Prof Name: 90\tFairness Score: 0\t100%\n",
      "Prof Name: 96\tFairness Score: 0\t100%\n",
      "Prof Name: 106\tFairness Score: 0\t100%\n",
      "Prof Name: 33\tFairness Score: 0\t100%\n",
      "Prof Name: 35\tFairness Score: 0\t100%\n",
      "Prof Name: 85\tFairness Score: 0\t100%\n",
      "Prof Name: 93\tFairness Score: 0\t100%\n",
      "Prof Name: 68\tFairness Score: 0\t100%\n",
      "Prof Name: 50\tFairness Score: 0\t100%\n",
      "Prof Name: 83\tFairness Score: 0\t100%\n",
      "Degree Name: Laurea in Biotecnologie [385] Corsi di laurea - UNICO\tYear: 1\tFairness Score: -1.1\n",
      "Degree Name: Laurea in Biotecnologie [385] Corsi di laurea - UNICO\tYear: 2\tFairness Score: -0.6\n",
      "Degree Name: Laurea in Biotecnologie [385] Corsi di laurea - UNICO\tYear: 3\tFairness Score: -7001.9111111111115\n",
      "Degree Name: Laurea in Informatica [420] Corsi di laurea - UNICO\tYear: 1\tFairness Score: -3000.776470588235\n",
      "Degree Name: Laurea in Informatica [420] Corsi di laurea - UNICO\tYear: 2\tFairness Score: -2001.3333333333333\n",
      "Degree Name: Laurea in Informatica [420] Corsi di laurea - UNICO\tYear: 3\tFairness Score: -2001.5428571428572\n",
      "Degree Name: Laurea in Bioinformatica [419] Corsi di laurea - UNICO\tYear: 1\tFairness Score: -1.5543478260869565\n",
      "Degree Name: Laurea in Bioinformatica [419] Corsi di laurea - UNICO\tYear: 2\tFairness Score: -3000.9333333333334\n",
      "Degree Name: Laurea in Bioinformatica [419] Corsi di laurea - UNICO\tYear: 3\tFairness Score: -2001.6\n",
      "^^^^^^^^^^^^^^^^^^^^^^^^^^^^^^^^^^^^^^^^^^^^^^^^^^^^^^^^^^^^^^^^^^^^^^^^^^^^^^^^^^^^^^^^^^^^^^^^^^^^^^^^^^^^^^^^\n",
      "\n",
      "-1056.1861918519419\n"
     ]
    }
   ],
   "source": [
    "all_timeline_prof = GlobalUniveristyFromLocal(timeline_prof, timeline_degree, 'prof')\n",
    "\n",
    "\n",
    "print('Fairness score of the global solution starting from Professors')\n",
    "print(all_timeline_prof.getSingleFairnessScore())\n",
    "print(all_timeline_prof.fairness_score())"
   ]
  },
  {
   "cell_type": "markdown",
   "metadata": {},
   "source": [
    "Note: the solution with fairness score < -1000 are not valid"
   ]
  },
  {
   "cell_type": "markdown",
   "metadata": {},
   "source": [
    "# Global"
   ]
  },
  {
   "cell_type": "code",
   "execution_count": null,
   "metadata": {},
   "outputs": [],
   "source": [
    "global_from_Stud = getBestSol(copy.deepcopy(all_timeline_stud), 20, 5, 0.5, 50)\n",
    "\n",
    "print(\"Global solution starting from the students' local solutions\")\n",
    "print(global_from_Stud.getSingleFairnessScore())\n",
    "print(global_from_Stud.fairness_score())"
   ]
  },
  {
   "cell_type": "markdown",
   "metadata": {},
   "source": [
    "Creation of the new object by scratch"
   ]
  },
  {
   "cell_type": "code",
   "execution_count": 9,
   "metadata": {},
   "outputs": [
    {
     "name": "stdout",
     "output_type": "stream",
     "text": [
      "^^^^^^^^^^^^^^^^^^^^^^^^^^^^^^^^^^^^^^^^^^^^^^^^^^^^^^^^^^^^^^^^^^^^^^^^^^^^^^^^^^^^^^^^^^^^^^^^^^^^^^^^^^^^^^^^\n",
      "^                                            Detailed Fairness Score                                           ^\n",
      "^^^^^^^^^^^^^^^^^^^^^^^^^^^^^^^^^^^^^^^^^^^^^^^^^^^^^^^^^^^^^^^^^^^^^^^^^^^^^^^^^^^^^^^^^^^^^^^^^^^^^^^^^^^^^^^^\n",
      "Prof Name: 71\tFairness Score: 0\t100%\n",
      "Prof Name: 41\tFairness Score: -0.5\t94%\n",
      "Prof Name: 31\tFairness Score: 0\t100%\n",
      "Prof Name: 86\tFairness Score: 0\t100%\n",
      "Prof Name: 30\tFairness Score: 0\t100%\n",
      "Prof Name: 23\tFairness Score: 0\t100%\n",
      "Prof Name: 5\tFairness Score: 0\t100%\n",
      "Prof Name: 1\tFairness Score: -1\t88%\n",
      "Prof Name: 44\tFairness Score: 0\t100%\n",
      "Prof Name: 4\tFairness Score: 0\t100%\n",
      "Prof Name: 55\tFairness Score: -1001.75\t0%\n",
      "Prof Name: 88\tFairness Score: -1000\t0%\n",
      "Prof Name: 54\tFairness Score: -1.5\t87%\n",
      "Prof Name: 74\tFairness Score: -0.5\t92%\n",
      "Prof Name: 25\tFairness Score: 0\t100%\n",
      "Prof Name: 51\tFairness Score: 0\t100%\n",
      "Prof Name: 57\tFairness Score: -0.5\t94%\n",
      "Prof Name: 32\tFairness Score: -2000\t0%\n",
      "Prof Name: 112\tFairness Score: 0\t100%\n",
      "Prof Name: 46\tFairness Score: 0\t100%\n",
      "Prof Name: 43\tFairness Score: 0\t100%\n",
      "Prof Name: 66\tFairness Score: 0\t100%\n",
      "Prof Name: 90\tFairness Score: 0\t100%\n",
      "Prof Name: 96\tFairness Score: 0\t100%\n",
      "Prof Name: 106\tFairness Score: 0\t100%\n",
      "Prof Name: 33\tFairness Score: 0\t100%\n",
      "Prof Name: 35\tFairness Score: -0.5\t91%\n",
      "Prof Name: 85\tFairness Score: 0\t100%\n",
      "Prof Name: 93\tFairness Score: 0\t100%\n",
      "Prof Name: 68\tFairness Score: 0\t100%\n",
      "Prof Name: 50\tFairness Score: -1.5\t75%\n",
      "Prof Name: 83\tFairness Score: -1002.0\t0%\n",
      "Degree Name: Laurea in Biotecnologie [385] Corsi di laurea - UNICO\tYear: 1\tFairness Score: -1.7333333333333332\n",
      "Degree Name: Laurea in Biotecnologie [385] Corsi di laurea - UNICO\tYear: 2\tFairness Score: -1.4\n",
      "Degree Name: Laurea in Biotecnologie [385] Corsi di laurea - UNICO\tYear: 3\tFairness Score: -6002.333333333333\n",
      "Degree Name: Laurea in Informatica [420] Corsi di laurea - UNICO\tYear: 1\tFairness Score: -3001.6428571428573\n",
      "Degree Name: Laurea in Informatica [420] Corsi di laurea - UNICO\tYear: 2\tFairness Score: -1.6352941176470588\n",
      "Degree Name: Laurea in Informatica [420] Corsi di laurea - UNICO\tYear: 3\tFairness Score: -3002.133333333333\n",
      "Degree Name: Laurea in Bioinformatica [419] Corsi di laurea - UNICO\tYear: 1\tFairness Score: -1001.5857142857143\n",
      "Degree Name: Laurea in Bioinformatica [419] Corsi di laurea - UNICO\tYear: 2\tFairness Score: -1.3333333333333335\n",
      "Degree Name: Laurea in Bioinformatica [419] Corsi di laurea - UNICO\tYear: 3\tFairness Score: -1002.125\n",
      "^^^^^^^^^^^^^^^^^^^^^^^^^^^^^^^^^^^^^^^^^^^^^^^^^^^^^^^^^^^^^^^^^^^^^^^^^^^^^^^^^^^^^^^^^^^^^^^^^^^^^^^^^^^^^^^^\n",
      "\n",
      "-856.9396881321974\n"
     ]
    }
   ],
   "source": [
    "obj = GlobalUniversity(prof, dict_degree)\n",
    "\n",
    "print(obj.getSingleFairnessScore())\n",
    "print(obj.fairness_score())"
   ]
  },
  {
   "cell_type": "code",
   "execution_count": null,
   "metadata": {},
   "outputs": [],
   "source": [
    "bestsol = getBestSol(copy.deepcopy(obj), 50, 5, 0.5, 50)\n",
    "print(bestsol.getSingleFairnessScore())\n",
    "print(bestsol.fairness_score())"
   ]
  }
 ],
 "metadata": {
  "kernelspec": {
   "display_name": "base",
   "language": "python",
   "name": "python3"
  },
  "language_info": {
   "codemirror_mode": {
    "name": "ipython",
    "version": 3
   },
   "file_extension": ".py",
   "mimetype": "text/x-python",
   "name": "python",
   "nbconvert_exporter": "python",
   "pygments_lexer": "ipython3",
   "version": "3.12.2"
  }
 },
 "nbformat": 4,
 "nbformat_minor": 2
}
