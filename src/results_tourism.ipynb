{
 "cells": [
  {
   "cell_type": "code",
   "execution_count": 2,
   "metadata": {},
   "outputs": [],
   "source": [
    "from global_sol.data_classes_global import GlobalTourism, GlobalTourismFromLocal\n",
    "from local_sol.data_classes_local import TimelineGuides, TimelineTours\n",
    "from global_sol.utils_global import getBestSol\n",
    "from local_sol.utils_local import getBestSolLocal\n",
    "import random\n",
    "import numpy as np\n",
    "import pandas as pd\n",
    "import copy\n",
    "\n",
    "seed = 20\n",
    "\n",
    "random.seed(seed)\n",
    "np.random.seed(seed)"
   ]
  },
  {
   "cell_type": "code",
   "execution_count": 4,
   "metadata": {},
   "outputs": [],
   "source": [
    "guides = list(pd.read_csv('../dataset/tourism/guide.csv').guide_id.unique())\n",
    "tours = list(pd.read_csv('../dataset/tourism/tours.csv').tour_id.unique())"
   ]
  },
  {
   "cell_type": "markdown",
   "metadata": {},
   "source": [
    "# Local Evaluations"
   ]
  },
  {
   "cell_type": "code",
   "execution_count": null,
   "metadata": {},
   "outputs": [],
   "source": [
    "timeline_guide = []\n",
    "timeline_tour = []\n",
    "\n",
    "initialTemp = 50\n",
    "finalTemp = 5\n",
    "alpha = 0.5\n",
    "maxPerturbation = 10\n",
    "\n",
    "for g in guides:\n",
    "    print('Guide: ', g)\n",
    "    timeline = TimelineGuides(g)\n",
    "    pareto = set()\n",
    "    pareto.add(timeline)\n",
    "    best_t = getBestSolLocal(timeline, pareto, initialTemp, finalTemp, alpha, maxPerturbation, True) \n",
    "    timeline_guide.append(best_t)\n",
    "\n",
    "\n",
    "for t in tours:\n",
    "    print('Tour: ', t)\n",
    "    timeline = TimelineTours(t)\n",
    "    pareto = set()\n",
    "    pareto.add(timeline)\n",
    "    best_t = getBestSolLocal(timeline, pareto, initialTemp, finalTemp, alpha, maxPerturbation, True) \n",
    "    timeline_tour.append(best_t)"
   ]
  },
  {
   "cell_type": "code",
   "execution_count": null,
   "metadata": {},
   "outputs": [],
   "source": [
    "all_timeline_neutral_t = GlobalTourismFromLocal(timeline_guide, timeline_tour)\n",
    "print('Fairness score in all sub-problem')\n",
    "print(all_timeline_neutral_t.getSingleFairnessScore())"
   ]
  },
  {
   "cell_type": "code",
   "execution_count": null,
   "metadata": {},
   "outputs": [],
   "source": [
    "all_timeline_guide= GlobalTourismFromLocal(timeline_guide, timeline_tour, 'guide')\n",
    "\n",
    "print('Fairness score of the global solution starting from Guides')\n",
    "print(all_timeline_guide.getSingleFairnessScore())\n",
    "print(all_timeline_guide.fairness_score())"
   ]
  },
  {
   "cell_type": "code",
   "execution_count": null,
   "metadata": {},
   "outputs": [],
   "source": [
    "all_timeline_tour= GlobalTourismFromLocal(timeline_guide, timeline_tour, 'tour')\n",
    "\n",
    "print('Fairness score of the global solution starting from Tours')\n",
    "print(all_timeline_tour.getSingleFairnessScore())\n",
    "print(all_timeline_tour.fairness_score())"
   ]
  },
  {
   "cell_type": "markdown",
   "metadata": {},
   "source": [
    "# Global"
   ]
  },
  {
   "cell_type": "code",
   "execution_count": null,
   "metadata": {},
   "outputs": [],
   "source": [
    "global_from_Stud = getBestSol(copy.deepcopy(all_timeline_tour), 20, 5, 0.5, 50)\n",
    "\n",
    "print(\"Global solution starting from the students' local solutions\")\n",
    "print(global_from_Stud.getSingleFairnessScore())\n",
    "print(global_from_Stud.fairness_score())"
   ]
  },
  {
   "cell_type": "markdown",
   "metadata": {},
   "source": [
    "Creation of the new object by scratch"
   ]
  },
  {
   "cell_type": "code",
   "execution_count": 6,
   "metadata": {},
   "outputs": [
    {
     "name": "stdout",
     "output_type": "stream",
     "text": [
      "^^^^^^^^^^^^^^^^^^^^^^^^^^^^^^^^^^^^^^^^^^^^^^^^^^^^^^^^^^^^^^^^^^^^^^^^^^^^^^^^^^^^^^^^^^^^^^^^^^^^^^^^^^^^^^^^\n",
      "^                                            Detailed Fairness Score                                           ^\n",
      "^^^^^^^^^^^^^^^^^^^^^^^^^^^^^^^^^^^^^^^^^^^^^^^^^^^^^^^^^^^^^^^^^^^^^^^^^^^^^^^^^^^^^^^^^^^^^^^^^^^^^^^^^^^^^^^^\n",
      "Guide name: 0\tFairness Score: -2002\n",
      "Guide name: 1\tFairness Score: -1001.5\n",
      "Guide name: 2\tFairness Score: -1.0\n",
      "Guide name: 3\tFairness Score: -1.5\n",
      "Guide name: 4\tFairness Score: -2.0\n",
      "Guide name: 5\tFairness Score: 0\n",
      "Guide name: 6\tFairness Score: -1.0\n",
      "Guide name: 7\tFairness Score: -3002.0\n",
      "\n",
      "Tour Name: 1\tFairness Score: -1173.6666666666667\n",
      "Tour Name: 2\tFairness Score: -3172.40350877193\n",
      "Tour Name: 3\tFairness Score: -1172.2820512820513\n",
      "Tour Name: 11\tFairness Score: -6.032142857142857\n",
      "Tour Name: 10\tFairness Score: -3173.8888888888887\n",
      "^^^^^^^^^^^^^^^^^^^^^^^^^^^^^^^^^^^^^^^^^^^^^^^^^^^^^^^^^^^^^^^^^^^^^^^^^^^^^^^^^^^^^^^^^^^^^^^^^^^^^^^^^^^^^^^^\n",
      "\n",
      "-1245.5148258466681\n"
     ]
    }
   ],
   "source": [
    "obj = GlobalTourism(guides, tours)\n",
    "\n",
    "print(obj.getSingleFairnessScore())\n",
    "print(obj.fairness_score())"
   ]
  },
  {
   "cell_type": "code",
   "execution_count": null,
   "metadata": {},
   "outputs": [],
   "source": [
    "bestsol = getBestSol(copy.deepcopy(obj), 50, 5, 0.5, 50)\n",
    "print(bestsol.getSingleFairnessScore())\n",
    "print(bestsol.fairness_score())"
   ]
  }
 ],
 "metadata": {
  "kernelspec": {
   "display_name": "base",
   "language": "python",
   "name": "python3"
  },
  "language_info": {
   "codemirror_mode": {
    "name": "ipython",
    "version": 3
   },
   "file_extension": ".py",
   "mimetype": "text/x-python",
   "name": "python",
   "nbconvert_exporter": "python",
   "pygments_lexer": "ipython3",
   "version": "3.12.2"
  }
 },
 "nbformat": 4,
 "nbformat_minor": 2
}
