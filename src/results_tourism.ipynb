{
 "cells": [
  {
   "cell_type": "code",
   "execution_count": 1,
   "metadata": {},
   "outputs": [],
   "source": [
    "from global_sol.data_classes_global import GlobalTourism, GlobalTourismFromLocal\n",
    "from local_sol.data_classes_local import TimelineGuides, TimelineTours\n",
    "from global_sol.utils_global import getBestSol\n",
    "from local_sol.utils_local import getBestSolLocal\n",
    "import random\n",
    "import numpy as np\n",
    "import pandas as pd\n",
    "import copy\n",
    "\n",
    "seed = 21\n",
    "\n",
    "random.seed(seed)\n",
    "np.random.seed(seed)"
   ]
  },
  {
   "cell_type": "code",
   "execution_count": 2,
   "metadata": {},
   "outputs": [],
   "source": [
    "guides = list(pd.read_csv('../dataset/tourism/guide.csv').guide_id.unique())\n",
    "tours = list(pd.read_csv('../dataset/tourism/tours.csv').tour_id.unique())"
   ]
  },
  {
   "cell_type": "markdown",
   "metadata": {},
   "source": [
    "# Local Evaluations"
   ]
  },
  {
   "cell_type": "code",
   "execution_count": 3,
   "metadata": {},
   "outputs": [
    {
     "name": "stdout",
     "output_type": "stream",
     "text": [
      "Guide:  0\n",
      "Guide:  1\n",
      "Guide:  2\n",
      "Guide:  3\n",
      "Guide:  4\n",
      "Guide:  5\n",
      "Guide:  6\n",
      "Guide:  7\n",
      "Tour:  1\n",
      "Tour:  2\n",
      "Tour:  3\n",
      "Tour:  11\n",
      "Tour:  10\n"
     ]
    }
   ],
   "source": [
    "timeline_guide = []\n",
    "timeline_tour = []\n",
    "\n",
    "initialTemp = 8\n",
    "finalTemp = 5\n",
    "alpha = 0.5\n",
    "maxPerturbation = 10\n",
    "\n",
    "for g in guides:\n",
    "    print('Guide: ', g)\n",
    "    timeline = TimelineGuides(g)\n",
    "    best_t = getBestSolLocal(timeline, initialTemp, finalTemp, alpha, maxPerturbation, True) \n",
    "    timeline_guide.append(best_t)\n",
    "\n",
    "initialTemp = 10\n",
    "finalTemp = 5\n",
    "alpha = 0.5\n",
    "maxPerturbation = 10\n",
    "\n",
    "for t in tours:\n",
    "    print('Tour: ', t)\n",
    "    timeline = TimelineTours(t)\n",
    "    pareto = set()\n",
    "    pareto.add(timeline)\n",
    "    best_t = getBestSolLocal(timeline, initialTemp, finalTemp, alpha, maxPerturbation, True) \n",
    "    timeline_tour.append(best_t)"
   ]
  },
  {
   "cell_type": "code",
   "execution_count": 4,
   "metadata": {},
   "outputs": [
    {
     "name": "stdout",
     "output_type": "stream",
     "text": [
      "Fairness score in all sub-problem\n",
      "^^^^^^^^^^^^^^^^^^^^^^^^^^^^^^^^^^^^^^^^^^^^^^^^^^^^^^^^^^^^^^^^^^^^^^^^^^^^^^^^^^^^^^^^^^^^^^^^^^^^^^^^^^^^^^^^\n",
      "^                                            Detailed Fairness Score                                           ^\n",
      "^^^^^^^^^^^^^^^^^^^^^^^^^^^^^^^^^^^^^^^^^^^^^^^^^^^^^^^^^^^^^^^^^^^^^^^^^^^^^^^^^^^^^^^^^^^^^^^^^^^^^^^^^^^^^^^^\n",
      "Guide name: 0\tFairness Score: 0\n",
      "Guide name: 1\tFairness Score: 0\n",
      "Guide name: 2\tFairness Score: 0\n",
      "Guide name: 3\tFairness Score: 0\n",
      "Guide name: 4\tFairness Score: 0\n",
      "Guide name: 5\tFairness Score: 0\n",
      "Guide name: 6\tFairness Score: 0\n",
      "Guide name: 7\tFairness Score: 0\n",
      "\n",
      "Tour Name: 1\tFairness Score: -2.295238095238095\n",
      "Tour Name: 2\tFairness Score: -3.0654761904761907\n",
      "Tour Name: 3\tFairness Score: -1.042857142857143\n",
      "Tour Name: 11\tFairness Score: -1.711904761904762\n",
      "Tour Name: 10\tFairness Score: -2.666666666666667\n",
      "^^^^^^^^^^^^^^^^^^^^^^^^^^^^^^^^^^^^^^^^^^^^^^^^^^^^^^^^^^^^^^^^^^^^^^^^^^^^^^^^^^^^^^^^^^^^^^^^^^^^^^^^^^^^^^^^\n",
      "\n"
     ]
    }
   ],
   "source": [
    "all_timeline_neutral_t = GlobalTourismFromLocal(timeline_guide, timeline_tour)\n",
    "print('Fairness score in all sub-problem')\n",
    "print(all_timeline_neutral_t.getSingleFairnessScore())"
   ]
  },
  {
   "cell_type": "code",
   "execution_count": 5,
   "metadata": {},
   "outputs": [
    {
     "name": "stdout",
     "output_type": "stream",
     "text": [
      "Fairness score of the global solution starting from Guides\n",
      "^^^^^^^^^^^^^^^^^^^^^^^^^^^^^^^^^^^^^^^^^^^^^^^^^^^^^^^^^^^^^^^^^^^^^^^^^^^^^^^^^^^^^^^^^^^^^^^^^^^^^^^^^^^^^^^^\n",
      "^                                            Detailed Fairness Score                                           ^\n",
      "^^^^^^^^^^^^^^^^^^^^^^^^^^^^^^^^^^^^^^^^^^^^^^^^^^^^^^^^^^^^^^^^^^^^^^^^^^^^^^^^^^^^^^^^^^^^^^^^^^^^^^^^^^^^^^^^\n",
      "Guide name: 0\tFairness Score: 0\n",
      "Guide name: 1\tFairness Score: 0\n",
      "Guide name: 2\tFairness Score: 0\n",
      "Guide name: 3\tFairness Score: 0\n",
      "Guide name: 4\tFairness Score: 0\n",
      "Guide name: 5\tFairness Score: 0\n",
      "Guide name: 6\tFairness Score: 0\n",
      "Guide name: 7\tFairness Score: 0\n",
      "\n",
      "Tour Name: 1\tFairness Score: -3005.7833333333333\n",
      "Tour Name: 2\tFairness Score: -1006.7261904761905\n",
      "Tour Name: 3\tFairness Score: -2001.6142857142859\n",
      "Tour Name: 11\tFairness Score: -1006.7277777777778\n",
      "Tour Name: 10\tFairness Score: -2006.3508771929826\n",
      "^^^^^^^^^^^^^^^^^^^^^^^^^^^^^^^^^^^^^^^^^^^^^^^^^^^^^^^^^^^^^^^^^^^^^^^^^^^^^^^^^^^^^^^^^^^^^^^^^^^^^^^^^^^^^^^^\n",
      "\n",
      "-902.720246449457\n"
     ]
    }
   ],
   "source": [
    "all_timeline_guide= GlobalTourismFromLocal(timeline_guide, timeline_tour, 'guide')\n",
    "\n",
    "print('Fairness score of the global solution starting from Guides')\n",
    "print(all_timeline_guide.getSingleFairnessScore())\n",
    "print(all_timeline_guide.fairness_score())"
   ]
  },
  {
   "cell_type": "code",
   "execution_count": 6,
   "metadata": {},
   "outputs": [
    {
     "name": "stdout",
     "output_type": "stream",
     "text": [
      "Fairness score of the global solution starting from Tours\n",
      "^^^^^^^^^^^^^^^^^^^^^^^^^^^^^^^^^^^^^^^^^^^^^^^^^^^^^^^^^^^^^^^^^^^^^^^^^^^^^^^^^^^^^^^^^^^^^^^^^^^^^^^^^^^^^^^^\n",
      "^                                            Detailed Fairness Score                                           ^\n",
      "^^^^^^^^^^^^^^^^^^^^^^^^^^^^^^^^^^^^^^^^^^^^^^^^^^^^^^^^^^^^^^^^^^^^^^^^^^^^^^^^^^^^^^^^^^^^^^^^^^^^^^^^^^^^^^^^\n",
      "Guide name: 0\tFairness Score: -1002\n",
      "Guide name: 1\tFairness Score: -1006.5\n",
      "Guide name: 2\tFairness Score: -2002.0\n",
      "Guide name: 3\tFairness Score: -2.0\n",
      "Guide name: 4\tFairness Score: 0\n",
      "Guide name: 5\tFairness Score: -2.0\n",
      "Guide name: 6\tFairness Score: -1.5\n",
      "Guide name: 7\tFairness Score: -2004.0\n",
      "\n",
      "Tour Name: 1\tFairness Score: -2.295238095238095\n",
      "Tour Name: 2\tFairness Score: -3.0654761904761907\n",
      "Tour Name: 3\tFairness Score: -1.042857142857143\n",
      "Tour Name: 11\tFairness Score: -1.711904761904762\n",
      "Tour Name: 10\tFairness Score: -2.666666666666667\n",
      "^^^^^^^^^^^^^^^^^^^^^^^^^^^^^^^^^^^^^^^^^^^^^^^^^^^^^^^^^^^^^^^^^^^^^^^^^^^^^^^^^^^^^^^^^^^^^^^^^^^^^^^^^^^^^^^^\n",
      "\n",
      "-377.3282142857143\n"
     ]
    }
   ],
   "source": [
    "all_timeline_tour= GlobalTourismFromLocal(timeline_guide, timeline_tour, 'tour')\n",
    "\n",
    "print('Fairness score of the global solution starting from Tours')\n",
    "print(all_timeline_tour.getSingleFairnessScore())\n",
    "print(all_timeline_tour.fairness_score())"
   ]
  }
 ],
 "metadata": {
  "kernelspec": {
   "display_name": "base",
   "language": "python",
   "name": "python3"
  },
  "language_info": {
   "codemirror_mode": {
    "name": "ipython",
    "version": 3
   },
   "file_extension": ".py",
   "mimetype": "text/x-python",
   "name": "python",
   "nbconvert_exporter": "python",
   "pygments_lexer": "ipython3",
   "version": "3.12.2"
  }
 },
 "nbformat": 4,
 "nbformat_minor": 2
}
